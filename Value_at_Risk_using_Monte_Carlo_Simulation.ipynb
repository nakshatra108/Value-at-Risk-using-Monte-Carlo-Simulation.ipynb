{
  "nbformat": 4,
  "nbformat_minor": 0,
  "metadata": {
    "colab": {
      "provenance": []
    },
    "kernelspec": {
      "name": "python3",
      "display_name": "Python 3"
    },
    "language_info": {
      "name": "python"
    }
  },
  "cells": [
    {
      "cell_type": "code",
      "execution_count": 14,
      "metadata": {
        "id": "d8SK2uZD0chP"
      },
      "outputs": [],
      "source": [
        "import numpy as np\n",
        "import pandas as pd\n",
        "import datetime as dt\n",
        "import yfinance as yf\n",
        "import matplotlib.pyplot as plt\n",
        "from scipy.stats import norm"
      ]
    },
    {
      "cell_type": "code",
      "source": [
        "### Set time from to a certain number of years\n",
        "years = 20\n",
        "\n",
        "endDate = dt.datetime.now()\n",
        "startDate = endDate - dt.timedelta(days = 252*years)\n",
        "\n",
        "### Create a list of tickers\n",
        "tickers = ['RELIANCE.NS','TATAMOTORS.NS','SBIN.NS','INFY.NS','SUNPHARMA.NS']"
      ],
      "metadata": {
        "id": "TLFgwBfa0c_T"
      },
      "execution_count": 15,
      "outputs": []
    },
    {
      "cell_type": "code",
      "source": [
        "### Download the daily adjusted close prices for the tickers\n",
        "adj_close_df = pd.DataFrame()\n",
        "\n",
        "for ticker in tickers:\n",
        "    data = yf.download(ticker, start = startDate, end = endDate)\n",
        "    adj_close_df[ticker] = data['Adj Close']\n",
        "\n",
        "print(adj_close_df)"
      ],
      "metadata": {
        "colab": {
          "base_uri": "https://localhost:8080/"
        },
        "id": "pmCaLERx0dB7",
        "outputId": "46389864-4334-418f-8390-5a10539d2ddc"
      },
      "execution_count": 16,
      "outputs": [
        {
          "output_type": "stream",
          "name": "stderr",
          "text": [
            "[*********************100%%**********************]  1 of 1 completed\n",
            "[*********************100%%**********************]  1 of 1 completed\n",
            "[*********************100%%**********************]  1 of 1 completed\n",
            "[*********************100%%**********************]  1 of 1 completed\n",
            "[*********************100%%**********************]  1 of 1 completed"
          ]
        },
        {
          "output_type": "stream",
          "name": "stdout",
          "text": [
            "            RELIANCE.NS  TATAMOTORS.NS     SBIN.NS      INFY.NS  SUNPHARMA.NS\n",
            "Date                                                                         \n",
            "2010-07-29   416.720917     160.100113  214.216690   265.046722    161.580658\n",
            "2010-07-30   416.514618     156.340973  216.802261   260.860260    160.568375\n",
            "2010-08-02   418.535980     156.525711  224.030777   261.660095    161.276474\n",
            "2010-08-03   423.981476     155.500504  225.260742   260.476685    162.452209\n",
            "2010-08-04   419.154846     155.989990  224.793060   268.915100    161.449020\n",
            "...                 ...            ...         ...          ...           ...\n",
            "2024-05-09  2788.250000    1030.300049  819.799988  1439.550049   1494.650024\n",
            "2024-05-10  2814.850098    1046.650024  817.349976  1424.900024   1506.550049\n",
            "2024-05-13  2805.399902     959.750000  808.799988  1423.449951   1525.050049\n",
            "2024-05-14  2840.149902     964.650024  818.200012  1424.699951   1545.250000\n",
            "2024-05-15  2832.550049     947.299988  820.299988  1419.949951   1527.400024\n",
            "\n",
            "[3402 rows x 5 columns]\n"
          ]
        },
        {
          "output_type": "stream",
          "name": "stderr",
          "text": [
            "\n"
          ]
        }
      ]
    },
    {
      "cell_type": "code",
      "source": [
        "### Calculate the daily log returns and drop any NAs\n",
        "log_returns = np.log(adj_close_df/adj_close_df.shift(1))\n",
        "log_returns  = log_returns.dropna()\n",
        "\n",
        "print(log_returns)"
      ],
      "metadata": {
        "colab": {
          "base_uri": "https://localhost:8080/"
        },
        "id": "SrUcFZl90dEs",
        "outputId": "399294ba-2df3-477d-f19a-508d95f8118c"
      },
      "execution_count": 17,
      "outputs": [
        {
          "output_type": "stream",
          "name": "stdout",
          "text": [
            "            RELIANCE.NS  TATAMOTORS.NS   SBIN.NS   INFY.NS  SUNPHARMA.NS\n",
            "Date                                                                    \n",
            "2010-07-30    -0.000495      -0.023760  0.011998 -0.015921     -0.006285\n",
            "2010-08-02     0.004841       0.001181  0.032798  0.003061      0.004400\n",
            "2010-08-03     0.012927      -0.006571  0.005475 -0.004533      0.007264\n",
            "2010-08-04    -0.011449       0.003143 -0.002078  0.031882     -0.006194\n",
            "2010-08-05    -0.008897       0.019409  0.019291 -0.001828     -0.008443\n",
            "...                 ...            ...       ...       ...           ...\n",
            "2024-05-09    -0.017368       0.017823  0.011039  0.008546     -0.017969\n",
            "2024-05-10     0.009495       0.015745 -0.002993 -0.010229      0.007930\n",
            "2024-05-13    -0.003363      -0.086677 -0.010516 -0.001018      0.012205\n",
            "2024-05-14     0.012311       0.005093  0.011555  0.000878      0.013158\n",
            "2024-05-15    -0.002679      -0.018150  0.002563 -0.003340     -0.011619\n",
            "\n",
            "[3401 rows x 5 columns]\n"
          ]
        }
      ]
    },
    {
      "cell_type": "code",
      "source": [
        "### Create a function that will be used to calculate portfolio expected return\n",
        "#We are assuming that future returns are based on past returns, which is not a reliable assumption.\n",
        "def expected_return(weights, log_returns):\n",
        "    return np.sum(log_returns.mean()*weights)\n",
        "\n",
        "### Create a function that will be used to calculate portfolio standard deviation\n",
        "def standard_deviation (weights, cov_matrix):\n",
        "    variance = weights.T @ cov_matrix @ weights\n",
        "    return np.sqrt(variance)"
      ],
      "metadata": {
        "id": "PcuV_jd20dHp"
      },
      "execution_count": 18,
      "outputs": []
    },
    {
      "cell_type": "code",
      "source": [
        "### Create a covariance matrix for all the securities\n",
        "cov_matrix = log_returns.cov()\n",
        "print(cov_matrix)"
      ],
      "metadata": {
        "colab": {
          "base_uri": "https://localhost:8080/"
        },
        "id": "bmhoMf4L0dKX",
        "outputId": "b2340f2f-17c4-4bf2-b55d-6109b6f0904d"
      },
      "execution_count": 19,
      "outputs": [
        {
          "output_type": "stream",
          "name": "stdout",
          "text": [
            "               RELIANCE.NS  TATAMOTORS.NS   SBIN.NS   INFY.NS  SUNPHARMA.NS\n",
            "RELIANCE.NS       0.000302       0.000164  0.000142  0.000071      0.000076\n",
            "TATAMOTORS.NS     0.000164       0.000660  0.000229  0.000101      0.000112\n",
            "SBIN.NS           0.000142       0.000229  0.000440  0.000063      0.000074\n",
            "INFY.NS           0.000071       0.000101  0.000063  0.000305      0.000054\n",
            "SUNPHARMA.NS      0.000076       0.000112  0.000074  0.000054      0.000327\n"
          ]
        }
      ]
    },
    {
      "cell_type": "code",
      "source": [
        "### Create an equally weighted portfolio and find total portfolio expected return and standard deviation\n",
        "portfolio_value = 1000000\n",
        "weights = np.array([1/len(tickers)]*len(tickers))\n",
        "portfolio_expected_return = expected_return(weights, log_returns)\n",
        "portfolio_std_dev = standard_deviation (weights, cov_matrix)"
      ],
      "metadata": {
        "id": "bP9G8k7U0dNN"
      },
      "execution_count": 20,
      "outputs": []
    },
    {
      "cell_type": "code",
      "source": [
        "def random_z_score():\n",
        "    return np.random.normal(0, 1)\n",
        "\n",
        "### Create a function to calculate scenarioGainLoss\n",
        "days = 21\n",
        "\n",
        "def scenario_gain_loss(portfolio_value, portfolio_std_dev, z_score, days):\n",
        "    return portfolio_value * portfolio_expected_return * days + portfolio_value * portfolio_std_dev * z_score * np.sqrt(days)"
      ],
      "metadata": {
        "id": "8ekE8dz90pdd"
      },
      "execution_count": 33,
      "outputs": []
    },
    {
      "cell_type": "code",
      "source": [
        "### Run 30000 simulations\n",
        "simulations = 30000\n",
        "scenarioReturn = []\n",
        "\n",
        "for i in range(simulations):\n",
        "    z_score = random_z_score()\n",
        "    scenarioReturn.append(scenario_gain_loss(portfolio_value, portfolio_std_dev, z_score, days))"
      ],
      "metadata": {
        "id": "iVkhN4_30phM"
      },
      "execution_count": 34,
      "outputs": []
    },
    {
      "cell_type": "code",
      "source": [
        "### Specify a confidence interval and calculate the Value at Risk (VaR)\n",
        "confidence_interval = 0.99\n",
        "VaR = -np.percentile(scenarioReturn, 100 * (1 - confidence_interval))\n",
        "print(VaR)"
      ],
      "metadata": {
        "colab": {
          "base_uri": "https://localhost:8080/"
        },
        "id": "zDghG5ap0pn-",
        "outputId": "fdc04542-56f2-4435-f0cd-357a5a4f40aa"
      },
      "execution_count": 35,
      "outputs": [
        {
          "output_type": "stream",
          "name": "stdout",
          "text": [
            "126110.80390087178\n"
          ]
        }
      ]
    },
    {
      "cell_type": "code",
      "source": [
        "### Plot the results of all 10000 scenarios\n",
        "plt.hist(scenarioReturn, bins=50, density=True)\n",
        "plt.xlabel('Scenario Gain/Loss ($)')\n",
        "plt.ylabel('Frequency')\n",
        "plt.title(f'Distribution of Portfolio Gain/Loss Over {days} Days')\n",
        "plt.axvline(-VaR, color='r', linestyle='dashed', linewidth=2, label=f'VaR at {confidence_interval:.0%} confidence level')\n",
        "plt.legend()\n",
        "plt.show()"
      ],
      "metadata": {
        "colab": {
          "base_uri": "https://localhost:8080/",
          "height": 472
        },
        "id": "eiTb5f3m0dQg",
        "outputId": "fda35a9a-c265-424a-efbf-bb2c80b28b6f"
      },
      "execution_count": 36,
      "outputs": [
        {
          "output_type": "display_data",
          "data": {
            "text/plain": [
              "<Figure size 640x480 with 1 Axes>"
            ],
            "image/png": "[encoded data removed]"
          },
          "metadata": {}
        }
      ]
    }
  ]
}